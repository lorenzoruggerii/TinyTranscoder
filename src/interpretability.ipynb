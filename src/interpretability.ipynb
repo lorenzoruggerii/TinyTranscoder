{
 "cells": [
  {
   "cell_type": "markdown",
   "id": "fb3df95d",
   "metadata": {},
   "source": [
    "# TinyStories Interpretability Notebook"
   ]
  },
  {
   "cell_type": "markdown",
   "id": "33ed482a",
   "metadata": {},
   "source": [
    "This notebook aims to extract some interpretable feature circuit using transcoders trained on a 2-layer transformer model trained on TinyStories, a dataset containing fairytales."
   ]
  },
  {
   "cell_type": "markdown",
   "id": "8c42a28c",
   "metadata": {},
   "source": [
    "First, start by importing the right libraries and setting up the model, the transcoder and the tokenizer."
   ]
  },
  {
   "cell_type": "code",
   "execution_count": 1,
   "id": "d5221a54",
   "metadata": {},
   "outputs": [
    {
     "name": "stderr",
     "output_type": "stream",
     "text": [
      "/storage_1/lruggeri/miniconda3/envs/wavelets/lib/python3.10/site-packages/tqdm/auto.py:21: TqdmWarning: IProgress not found. Please update jupyter and ipywidgets. See https://ipywidgets.readthedocs.io/en/stable/user_install.html\n",
      "  from .autonotebook import tqdm as notebook_tqdm\n"
     ]
    }
   ],
   "source": [
    "from transcoder import CrossLayerTranscoder\n",
    "from config import TranscoderConfig, ModelConfig\n",
    "from gpt import GPTLanguageModel\n",
    "from datasets import load_dataset\n",
    "import torch\n",
    "import torch.nn as nn\n",
    "from torch import einsum\n",
    "from typing import Optional, Union\n",
    "from transcoder import CrossLayerTranscoder\n",
    "from transformers import GPT2Tokenizer\n",
    "\n",
    "torch.manual_seed(42)\n",
    "\n",
    "# Set number of test prompts to visualize\n",
    "num_test_prompts = 30\n",
    "\n",
    "# Load tinystories dataset and filter it\n",
    "dataset = load_dataset('roneneldan/TinyStories', split='train')\n",
    "test_prompts = dataset[:num_test_prompts]['text']\n",
    "\n",
    "# Load config files\n",
    "t_cfg = TranscoderConfig()\n",
    "m_cfg = ModelConfig()\n",
    "\n",
    "t_cfg.save_path = f\"../../{t_cfg.save_path}\"\n",
    "m_cfg.model_path = f\"../../{m_cfg.model_path}\"\n",
    "\n",
    "# Initialize Transcoder, Model and Tokenizer\n",
    "tc = CrossLayerTranscoder.load_model(t_cfg, m_cfg)\n",
    "m = GPTLanguageModel.from_pretrained(m_cfg).to(m_cfg.device)\n",
    "tok = GPT2Tokenizer.from_pretrained(\"gpt2\")\n",
    "tok.pad_token = tok.eos_token"
   ]
  },
  {
   "cell_type": "markdown",
   "id": "b85526e1",
   "metadata": {},
   "source": [
    "Now we will start to investigate which features activates the most on the last token of a given prompt. <br>\n",
    "Specifically, we will search in both layers of the model to find some good features."
   ]
  },
  {
   "cell_type": "markdown",
   "id": "1eb7a46a",
   "metadata": {},
   "source": [
    "Here we will use *which_most_act* function which returns which features are activating the most on a the last token of a given prompt"
   ]
  },
  {
   "cell_type": "code",
   "execution_count": 2,
   "id": "bcd20d3b",
   "metadata": {},
   "outputs": [
    {
     "name": "stdout",
     "output_type": "stream",
     "text": [
      "--- Layer 0 ---\n",
      "Feat #1: 7659\n",
      "Feat #2: 6490\n",
      "Feat #3: 2915\n",
      "Feat #4: 6384\n",
      "Feat #5: 2545\n",
      "--- Layer 1 ---\n",
      "Feat #1: 3462\n",
      "Feat #2: 1932\n",
      "Feat #3: 3327\n",
      "Feat #4: 696\n",
      "Feat #5: 8059\n"
     ]
    }
   ],
   "source": [
    "from utils import *\n",
    "\n",
    "text = [\n",
    "    'Once upon a'\n",
    "]\n",
    "logits = which_most_act(text, tok, tc)"
   ]
  },
  {
   "cell_type": "markdown",
   "id": "4ab4e2d8",
   "metadata": {},
   "source": [
    "However, visualizing it like this is not satisfying. We don't know whether that feature is specific for that token or it activates also in other contexts. Therefore, I've developed this dash application to see where the features activates the most on a given set of input prompts. <br>\n",
    "Here from the dropdown you can select the features that you want to visualize in both layers and the tokens will be coloured based on the feature's activation in that specific token. "
   ]
  },
  {
   "cell_type": "markdown",
   "id": "549abbde",
   "metadata": {},
   "source": [
    "## Visualizing Activations through Dash"
   ]
  },
  {
   "cell_type": "markdown",
   "id": "9085ce12",
   "metadata": {},
   "source": [
    "Here you have a very simple dash app that takes as input the sequences, the model and outputs a visualization for identifying which features are active on a given prompt. "
   ]
  },
  {
   "cell_type": "code",
   "execution_count": 4,
   "id": "3e80dd4f",
   "metadata": {},
   "outputs": [
    {
     "data": {
      "text/html": [
       "\n",
       "        <iframe\n",
       "            width=\"100%\"\n",
       "            height=\"650\"\n",
       "            src=\"http://127.0.0.1:8052/\"\n",
       "            frameborder=\"0\"\n",
       "            allowfullscreen\n",
       "            \n",
       "        ></iframe>\n",
       "        "
      ],
      "text/plain": [
       "<IPython.lib.display.IFrame at 0x7aea34459e10>"
      ]
     },
     "metadata": {},
     "output_type": "display_data"
    }
   ],
   "source": [
    "from jupyter_dash import JupyterDash\n",
    "from dash import dcc, html, Input, Output, Dash\n",
    "import dash_bootstrap_components as dbc\n",
    "import numpy as np\n",
    "import matplotlib\n",
    "import matplotlib.cm as cm\n",
    "import matplotlib.colors as mcolors\n",
    "import torch\n",
    "\n",
    "# Filter out prompts with specific entry ('worry' in this case, we will need that later)\n",
    "pattern = 'Once'\n",
    "filtered_prompts = dataset.filter(lambda x: pattern in x['text'])\n",
    "test_prompts = filtered_prompts[:num_test_prompts]['text']\n",
    "\n",
    "# Example tokenized sequences and activations (token-level)\n",
    "prompts = test_prompts\n",
    "tokens = [tok.tokenize(prompt) for prompt in prompts]\n",
    "input_ids = tok(prompts, return_tensors='pt', truncation=True, max_length=tc.model_cfg.block_size)['input_ids']\n",
    "input_ids = input_ids.to(tc.cfg.device)\n",
    "\n",
    "outs = tc(input_ids)\n",
    "\n",
    "# shape: (3 sequences, 7 tokens, 7 features)\n",
    "activations = outs['feature_activations']\n",
    "num_features = tc.cfg.num_features\n",
    "\n",
    "# Color token helper\n",
    "def color_token(token, act, vmin, vmax):\n",
    "    norm = mcolors.Normalize(vmin=vmin, vmax=vmax)\n",
    "    cmap = matplotlib.colormaps['YlOrRd']\n",
    "    rgba = cmap(norm(act))\n",
    "    color = f\"rgba({int(rgba[0]*255)}, {int(rgba[1]*255)}, {int(rgba[2]*255)}, 0.9)\"\n",
    "    return html.Span(token, title=f\"Activation: {act:.4f}\", style={\n",
    "        \"backgroundColor\": color,\n",
    "        \"padding\": \"2px\",\n",
    "        \"margin\": \"1px\",\n",
    "        \"fontFamily\": \"monospace\"\n",
    "    })\n",
    "\n",
    "# Render a sequence with token-level activations\n",
    "def render_sequence(tokens, activations, eos_token='</s>'):\n",
    "    if isinstance(activations, torch.Tensor):\n",
    "        activations = activations.detach().cpu().numpy()\n",
    "\n",
    "    vmin, vmax = np.min(activations), np.max(activations)\n",
    "    elements = []\n",
    "\n",
    "    for token, act in zip(tokens, activations):\n",
    "        clean_token = token.replace('Ġ', '').strip()  # remove Ġ and extra spaces\n",
    "        if clean_token == '' or clean_token == eos_token:\n",
    "            continue  # skip empty or eos tokens\n",
    "        elements.append(color_token(clean_token, act, vmin, vmax))\n",
    "\n",
    "    return html.Div(\n",
    "        elements,\n",
    "        style={\"display\": \"flex\", \"flexWrap\": \"wrap\", \"marginBottom\": \"10px\"}\n",
    "    )\n",
    "\n",
    "\n",
    "# Build app\n",
    "app = Dash(__name__, external_stylesheets=[dbc.themes.BOOTSTRAP])\n",
    "\n",
    "app.layout = dbc.Container([\n",
    "    html.H3(\"Sparse Feature Activation Visualizer\"),\n",
    "\n",
    "    dbc.Row([\n",
    "        dbc.Col([\n",
    "            dbc.Label(\"Select Transcoder Layer:\"),\n",
    "            dcc.Dropdown(\n",
    "                id=\"layer-dropdown\",\n",
    "                options=[{\"label\": f\"Layer {i}\", \"value\": i} for i in range(tc.model_cfg.n_layer)],\n",
    "                value=0,\n",
    "                clearable=False\n",
    "            )\n",
    "        ]),\n",
    "        dbc.Col([\n",
    "            dbc.Label(\"Select Feature Index:\"),\n",
    "            dcc.Dropdown(\n",
    "                id=\"feature-dropdown\",\n",
    "                options=[{'label': f'Feature {i}', 'value': i} for i in range(num_features)],\n",
    "                value=0,\n",
    "                clearable=False\n",
    "            )\n",
    "        ]) \n",
    "    ]),\n",
    "\n",
    "    html.Hr(),\n",
    "\n",
    "    html.Div(id=\"sequence-view\")\n",
    "], fluid=True)\n",
    "\n",
    "# Callback to update sequences based on feature index\n",
    "@app.callback(\n",
    "    Output(\"sequence-view\", \"children\"),\n",
    "    [Input(\"layer-dropdown\", \"value\"),\n",
    "     Input(\"feature-dropdown\", \"value\")]\n",
    ")\n",
    "def update_feature_view(selected_layer, selected_feature):\n",
    "    # Extract from activations assuming shape: (B, T, num_features, num_layers)\n",
    "    \n",
    "    acts_for_layer = activations[selected_layer][:, :, selected_feature]  # shape: (B, T)\n",
    "\n",
    "    sequence_rows = []\n",
    "    for i in range(len(tokens)):\n",
    "        toks = tokens[i]\n",
    "        acts = acts_for_layer[i]\n",
    "        row = html.Div([\n",
    "            html.Strong(f\"Sequence {i}:\"), render_sequence(toks, acts)\n",
    "        ])\n",
    "        sequence_rows.append(row)\n",
    "\n",
    "    return sequence_rows\n",
    "\n",
    "\n",
    "app.run(debug=True, port=8052)\n"
   ]
  },
  {
   "cell_type": "markdown",
   "id": "ed08b12b",
   "metadata": {},
   "source": [
    "## The \"Don't worry\" circuit"
   ]
  },
  {
   "cell_type": "markdown",
   "id": "61674fe2",
   "metadata": {},
   "source": [
    "Take for example features 6764 and 5338 from layer 0. They activates particularly on token **'t** when it follows the token **don**. Moreover, these features seem responsible for the output of token **worry**. Therefore, we can speculate that these features are constructing a circuit that make the model say; *\"Don't worry\"*. <br>\n",
    "Let's see if this speculation is correct by switching off these features in a context where the model wants to output the token **worry**. "
   ]
  },
  {
   "cell_type": "code",
   "execution_count": 4,
   "id": "458d057b",
   "metadata": {},
   "outputs": [
    {
     "name": "stdout",
     "output_type": "stream",
     "text": [
      "Original logits. Best Token 1064 with value 10.804633140563965. Token:  find with p=0.12120366096496582\n",
      "Modified logits. Best Token 5490 with value 11.551329612731934. Token:  worry with p=0.7195234298706055\n",
      "Probabilities changed from 0.00014963549620006233 to 0.7195234298706055\n"
     ]
    }
   ],
   "source": [
    "from utils import activate_features_across_layers, plot_top_tokens_comparison\n",
    "\n",
    "torch.manual_seed(42)\n",
    "\n",
    "# Text where the 't token is not followed by 'worry'\n",
    "text = 'The old man said: \"I can\\'t'\n",
    "\n",
    "# Forcefully activate feature 6764 in layer 0\n",
    "original_logits, modified_logits = activate_features_across_layers(text, feature_activation={0: [6764]}, activation_value=200.0, m=m, tc=tc, tok=tok)\n"
   ]
  },
  {
   "cell_type": "markdown",
   "id": "793cb6fd",
   "metadata": {},
   "source": [
    "Now the model outputs worry **with a probability of roughly 72%** on a context in which worry was considered with a confidence of less than 0.1%. Let's plot the differences in the model's logits."
   ]
  },
  {
   "cell_type": "code",
   "execution_count": 5,
   "id": "a2f0b426",
   "metadata": {},
   "outputs": [
    {
     "data": {
      "image/png": "[encoded data removed]",
      "text/plain": [
       "<Figure size 1400x500 with 2 Axes>"
      ]
     },
     "metadata": {},
     "output_type": "display_data"
    }
   ],
   "source": [
    "# Plot model's logits differences\n",
    "plot_top_tokens_comparison(original_logits, modified_logits, tok, top_k=10)"
   ]
  },
  {
   "cell_type": "markdown",
   "id": "6b1aa862",
   "metadata": {},
   "source": [
    "As you can the the model shifts from outputting \"find\" to outputting \"worry\" with a really good confidence."
   ]
  },
  {
   "cell_type": "markdown",
   "id": "1613e157",
   "metadata": {},
   "source": [
    "## The \"Once upon a time\" circuit"
   ]
  },
  {
   "cell_type": "markdown",
   "id": "cf1d7d89",
   "metadata": {},
   "source": [
    "Now let's consider another pattern, usually present in fairy tales: \"Once upon a time\". From the dash app, we can see how feature 1932 from layer 1 activates the most on \"a\" before outputting \"time\". So that could be our **starting point**."
   ]
  },
  {
   "cell_type": "code",
   "execution_count": 6,
   "id": "dac07bde",
   "metadata": {},
   "outputs": [
    {
     "name": "stdout",
     "output_type": "stream",
     "text": [
      "--- Paths of size 2 ---\n",
      "Path [0][0]: mlp1@2@2 <- mlp0tc[2915]@2: 2.8\n",
      "Path [0][1]: mlp1@2@2 <- attn0[1]@2: 0.66\n",
      "Path [0][2]: mlp1@2@2 <- attn0[0]@2: 0.29\n",
      "Path [0][3]: mlp1@2@2 <- attn0[3]@0: 0.24\n",
      "Path [0][4]: mlp1@2@2 <- attn0[2]@1: 0.21\n",
      "--- Paths of size 3 ---\n",
      "Path [1][0]: mlp1@2@2 <- mlp0tc[2915]@2: 2.8 <- mlp0tc[2915]@2: 2.8\n",
      "Path [1][1]: mlp1@2@2 <- mlp0tc[2915]@2: 2.8 <- attn0[1]@2: 0.66\n",
      "Path [1][2]: mlp1@2@2 <- mlp0tc[2915]@2: 2.8 <- attn0[0]@2: 0.29\n",
      "Path [1][3]: mlp1@2@2 <- mlp0tc[2915]@2: 2.8 <- attn0[3]@0: 0.24\n",
      "Path [1][4]: mlp1@2@2 <- mlp0tc[2915]@2: 2.8 <- attn0[2]@1: 0.21\n"
     ]
    }
   ],
   "source": [
    "from circuit_tracing import *\n",
    "\n",
    "text = 'Once upon a'\n",
    "input_ids = tok(text, return_tensors='pt')['input_ids'].cuda()\n",
    "\n",
    "logits, cache = m.run_with_cache(input_ids)\n",
    "\n",
    "layer = 1\n",
    "token = 2\n",
    "act_feat = 1932\n",
    "f_target = tc.encoders[layer].weight[act_feat, :]\n",
    "\n",
    "# # Feature to trace\n",
    "fv = FeatureVector(\n",
    "    component_path=[Component(layer, ComponentType.MLP, token=token)],\n",
    "    vector=f_target.detach().clone(),\n",
    "    layer=layer,\n",
    "    sublayer=\"resid_mid\",\n",
    "    token=token\n",
    ")\n",
    "\n",
    "all_paths = greedy_get_top_paths(m, tc, cache, fv)\n",
    "print_all_paths(all_paths)\n"
   ]
  },
  {
   "cell_type": "markdown",
   "id": "00f95bc9",
   "metadata": {},
   "source": [
    "This notation means that feature 1932 in layer 1 is being modulated by feature 2915 in layer 0, which itself receives contributions from **attention head 3 at token position 0** and **attention head 2 at token position 1**. In plain language: the feature that predicts *“time”* is activated through a chain that depends on the tokens *“once”* and *“upon”*.\n",
    "\n",
    "Altogether, this paints a coherent picture. The model has carved out a small, **interpretable** circuit that detects the prefix *“once upon a …”* and channels this information forward to bias the output toward *“time”*."
   ]
  },
  {
   "cell_type": "markdown",
   "id": "4d81f8e8",
   "metadata": {},
   "source": [
    "Now let's test this circuit in a situation in which \"time\" should not be the correct output."
   ]
  },
  {
   "cell_type": "code",
   "execution_count": 7,
   "id": "0b79b4e8",
   "metadata": {},
   "outputs": [
    {
     "name": "stdout",
     "output_type": "stream",
     "text": [
      "Original logits. Best Token 2041 with value 11.507708549499512. Token:  special with p=0.2899576723575592\n",
      "Modified logits. Best Token 640 with value 14.536004066467285. Token:  time with p=0.9728103876113892\n",
      "Probabilities changed from 4.9016594857675955e-05 to 0.9728103876113892\n"
     ]
    }
   ],
   "source": [
    "text = 'This is a'\n",
    "\n",
    "torch.manual_seed(42)\n",
    "# Forcefully activate feature 6764 in layer 0\n",
    "original_logits, modified_logits = activate_features_across_layers(text, feature_activation={0: [2915]}, activation_value=100.0, m=m, tok=tok, tc=tc)"
   ]
  },
  {
   "cell_type": "markdown",
   "id": "a3eb693a",
   "metadata": {},
   "source": [
    "As you can see, by activating feature 2915 (the one that modules feature 1932 in layer 1), \"time\" probability skyrockets from <0.001% to 97%. In the original setting, the model would have outputted \"special\" with probability 28%."
   ]
  },
  {
   "cell_type": "markdown",
   "id": "edc68fe1",
   "metadata": {},
   "source": [
    "Let's see again the differences for the top 10 logits."
   ]
  },
  {
   "cell_type": "code",
   "execution_count": 11,
   "id": "9da6563e",
   "metadata": {},
   "outputs": [
    {
     "data": {
      "image/png": "[encoded data removed]",
      "text/plain": [
       "<Figure size 1400x500 with 2 Axes>"
      ]
     },
     "metadata": {},
     "output_type": "display_data"
    }
   ],
   "source": [
    "# Plot model's logits differences\n",
    "plot_top_tokens_comparison(original_logits, modified_logits, tok, top_k=10)"
   ]
  },
  {
   "cell_type": "markdown",
   "id": "13afa57e",
   "metadata": {},
   "source": [
    "As you can the the model shifts **completely** from outputting \"special\" to outputting \"time\" with nearly 100% confidence."
   ]
  }
 ],
 "metadata": {
  "kernelspec": {
   "display_name": "wavelets",
   "language": "python",
   "name": "python3"
  },
  "language_info": {
   "codemirror_mode": {
    "name": "ipython",
    "version": 3
   },
   "file_extension": ".py",
   "mimetype": "text/x-python",
   "name": "python",
   "nbconvert_exporter": "python",
   "pygments_lexer": "ipython3",
   "version": "3.10.16"
  }
 },
 "nbformat": 4,
 "nbformat_minor": 5
}
